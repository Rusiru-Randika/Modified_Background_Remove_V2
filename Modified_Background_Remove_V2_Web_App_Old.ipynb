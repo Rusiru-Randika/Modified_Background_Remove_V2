{
  "cells": [
    {
      "metadata": {
        "ExecuteTime": {
          "end_time": "2025-01-27T20:23:13.802130Z",
          "start_time": "2025-01-27T20:23:11.751638Z"
        },
        "colab": {
          "base_uri": "https://localhost:8080/"
        },
        "id": "RzeWWK5HeF-c",
        "outputId": "53ea63d4-560f-4acd-f819-6635e170341f"
      },
      "cell_type": "code",
      "source": [
        "!pip install onnxruntime"
      ],
      "outputs": [
        {
          "output_type": "stream",
          "name": "stdout",
          "text": [
            "Requirement already satisfied: onnxruntime in /usr/local/lib/python3.11/dist-packages (1.20.1)\n",
            "Requirement already satisfied: coloredlogs in /usr/local/lib/python3.11/dist-packages (from onnxruntime) (15.0.1)\n",
            "Requirement already satisfied: flatbuffers in /usr/local/lib/python3.11/dist-packages (from onnxruntime) (25.1.21)\n",
            "Requirement already satisfied: numpy>=1.21.6 in /usr/local/lib/python3.11/dist-packages (from onnxruntime) (1.26.4)\n",
            "Requirement already satisfied: packaging in /usr/local/lib/python3.11/dist-packages (from onnxruntime) (24.2)\n",
            "Requirement already satisfied: protobuf in /usr/local/lib/python3.11/dist-packages (from onnxruntime) (4.25.6)\n",
            "Requirement already satisfied: sympy in /usr/local/lib/python3.11/dist-packages (from onnxruntime) (1.13.1)\n",
            "Requirement already satisfied: humanfriendly>=9.1 in /usr/local/lib/python3.11/dist-packages (from coloredlogs->onnxruntime) (10.0)\n",
            "Requirement already satisfied: mpmath<1.4,>=1.1.0 in /usr/local/lib/python3.11/dist-packages (from sympy->onnxruntime) (1.3.0)\n"
          ]
        }
      ],
      "execution_count": 4
    },
    {
      "metadata": {
        "id": "atXO_WJ3eF-f"
      },
      "cell_type": "markdown",
      "source": []
    },
    {
      "metadata": {
        "ExecuteTime": {
          "end_time": "2025-01-27T20:23:19.906919Z",
          "start_time": "2025-01-27T20:23:13.815972Z"
        },
        "id": "1OZgQKSveF-h"
      },
      "cell_type": "code",
      "source": [
        "!pip install gradio rembg --quiet"
      ],
      "outputs": [],
      "execution_count": 5
    },
    {
      "cell_type": "code",
      "source": [
        "import gradio as gr\n",
        "from rembg import remove\n",
        "from PIL import Image\n",
        "import io\n",
        "\n",
        "def remove_background(image_path):\n",
        "    # Read the image\n",
        "    input_image = Image.open(image_path)\n",
        "    # Remove the background\n",
        "    output_image = remove(input_image)\n",
        "    return output_image\n",
        "\n",
        "demo = gr.Interface(\n",
        "    fn=remove_background,\n",
        "    inputs=gr.Image(type=\"filepath\"),\n",
        "    outputs=gr.Image(type=\"pil\")\n",
        ")\n",
        "\n",
        "demo.launch(share=True)\n"
      ],
      "metadata": {
        "colab": {
          "base_uri": "https://localhost:8080/",
          "height": 611
        },
        "id": "RcUyusxmCMTZ",
        "outputId": "a1c68abb-b305-4fbf-f05f-cff79093f022"
      },
      "execution_count": 6,
      "outputs": [
        {
          "output_type": "stream",
          "name": "stdout",
          "text": [
            "Colab notebook detected. To show errors in colab notebook, set debug=True in launch()\n",
            "* Running on public URL: https://8961cb64630b2dee46.gradio.live\n",
            "\n",
            "This share link expires in 72 hours. For free permanent hosting and GPU upgrades, run `gradio deploy` from the terminal in the working directory to deploy to Hugging Face Spaces (https://huggingface.co/spaces)\n"
          ]
        },
        {
          "output_type": "display_data",
          "data": {
            "text/plain": [
              "<IPython.core.display.HTML object>"
            ],
            "text/html": [
              "<div><iframe src=\"https://8961cb64630b2dee46.gradio.live\" width=\"100%\" height=\"500\" allow=\"autoplay; camera; microphone; clipboard-read; clipboard-write;\" frameborder=\"0\" allowfullscreen></iframe></div>"
            ]
          },
          "metadata": {}
        },
        {
          "output_type": "execute_result",
          "data": {
            "text/plain": []
          },
          "metadata": {},
          "execution_count": 6
        }
      ]
    }
  ],
  "metadata": {
    "accelerator": "TPU",
    "colab": {
      "provenance": [],
      "gpuType": "V28"
    },
    "kernelspec": {
      "display_name": "Python 3 (ipykernel)",
      "name": "python3",
      "language": "python"
    },
    "language_info": {
      "name": "python"
    }
  },
  "nbformat": 4,
  "nbformat_minor": 0
}