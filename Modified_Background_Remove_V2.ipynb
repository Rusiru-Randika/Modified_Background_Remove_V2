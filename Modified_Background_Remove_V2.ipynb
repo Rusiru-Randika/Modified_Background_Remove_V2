{
 "cells": [
  {
   "metadata": {
    "ExecuteTime": {
     "end_time": "2025-01-27T20:23:13.802130Z",
     "start_time": "2025-01-27T20:23:11.751638Z"
    }
   },
   "cell_type": "code",
   "source": "!pip install onnxruntime",
   "outputs": [
    {
     "name": "stdout",
     "output_type": "stream",
     "text": [
      "Requirement already satisfied: onnxruntime in /Users/kavindus/miniconda3/lib/python3.12/site-packages (1.20.1)\r\n",
      "Requirement already satisfied: coloredlogs in /Users/kavindus/miniconda3/lib/python3.12/site-packages (from onnxruntime) (15.0.1)\r\n",
      "Requirement already satisfied: flatbuffers in /Users/kavindus/miniconda3/lib/python3.12/site-packages (from onnxruntime) (25.1.24)\r\n",
      "Requirement already satisfied: numpy>=1.21.6 in /Users/kavindus/miniconda3/lib/python3.12/site-packages (from onnxruntime) (1.26.4)\r\n",
      "Requirement already satisfied: packaging in /Users/kavindus/miniconda3/lib/python3.12/site-packages (from onnxruntime) (23.2)\r\n",
      "Requirement already satisfied: protobuf in /Users/kavindus/miniconda3/lib/python3.12/site-packages (from onnxruntime) (5.29.3)\r\n",
      "Requirement already satisfied: sympy in /Users/kavindus/miniconda3/lib/python3.12/site-packages (from onnxruntime) (1.13.1)\r\n",
      "Requirement already satisfied: humanfriendly>=9.1 in /Users/kavindus/miniconda3/lib/python3.12/site-packages (from coloredlogs->onnxruntime) (10.0)\r\n",
      "Requirement already satisfied: mpmath<1.4,>=1.1.0 in /Users/kavindus/miniconda3/lib/python3.12/site-packages (from sympy->onnxruntime) (1.3.0)\r\n"
     ]
    }
   ],
   "execution_count": 3
  },
  {
   "metadata": {},
   "cell_type": "markdown",
   "source": ""
  },
  {
   "metadata": {
    "ExecuteTime": {
     "end_time": "2025-01-27T20:23:19.906919Z",
     "start_time": "2025-01-27T20:23:13.815972Z"
    }
   },
   "cell_type": "code",
   "source": [
    "import gradio as gr\n",
    "from rembg import remove\n",
    "from PIL import Image\n",
    "import io\n",
    "\n",
    "def remove_background(image_path):\n",
    "    # Read the image\n",
    "    input_image = Image.open(image_path)\n",
    "    # Remove the background\n",
    "    output_image = remove(input_image)\n",
    "    return output_image\n",
    "\n",
    "demo = gr.Interface(\n",
    "    fn=remove_background,\n",
    "    inputs=gr.Image(type=\"filepath\"),\n",
    "    outputs=gr.Image(type=\"pil\")\n",
    ")\n",
    "\n",
    "demo.launch(share=True)"
   ],
   "outputs": [
    {
     "name": "stdout",
     "output_type": "stream",
     "text": [
      "* Running on local URL:  http://127.0.0.1:7864\n",
      "* Running on public URL: https://dea3fddc925dabf756.gradio.live\n",
      "\n",
      "This share link expires in 72 hours. For free permanent hosting and GPU upgrades, run `gradio deploy` from the terminal in the working directory to deploy to Hugging Face Spaces (https://huggingface.co/spaces)\n"
     ]
    },
    {
     "data": {
      "text/plain": [
       "<IPython.core.display.HTML object>"
      ],
      "text/html": [
       "<div><iframe src=\"https://dea3fddc925dabf756.gradio.live\" width=\"100%\" height=\"500\" allow=\"autoplay; camera; microphone; clipboard-read; clipboard-write;\" frameborder=\"0\" allowfullscreen></iframe></div>"
      ]
     },
     "metadata": {},
     "output_type": "display_data"
    },
    {
     "data": {
      "text/plain": []
     },
     "execution_count": 4,
     "metadata": {},
     "output_type": "execute_result"
    }
   ],
   "execution_count": 4
  }
 ],
 "metadata": {
  "accelerator": "TPU",
  "colab": {
   "provenance": [],
   "include_colab_link": true
  },
  "kernelspec": {
   "display_name": "Python 3 (ipykernel)",
   "name": "python3",
   "language": "python"
  },
  "language_info": {
   "name": "python"
  }
 },
 "nbformat": 4,
 "nbformat_minor": 0
}
