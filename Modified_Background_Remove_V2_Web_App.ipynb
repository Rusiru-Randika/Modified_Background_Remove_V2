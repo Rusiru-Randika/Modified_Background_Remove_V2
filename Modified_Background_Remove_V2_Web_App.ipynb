{
  "cells": [
    {
      "cell_type": "markdown",
      "metadata": {
        "id": "view-in-github",
        "colab_type": "text"
      },
      "source": [
        "<a href=\"https://colab.research.google.com/github/Rusiru-Randika/Modified_Background_Remove_V2/blob/Modified_Background_Remove_V2_Web_App_Updated/Modified_Background_Remove_V2_Web_App.ipynb\" target=\"_parent\"><img src=\"https://colab.research.google.com/assets/colab-badge.svg\" alt=\"Open In Colab\"/></a>"
      ]
    },
    {
      "metadata": {
        "ExecuteTime": {
          "end_time": "2025-01-27T20:23:13.802130Z",
          "start_time": "2025-01-27T20:23:11.751638Z"
        },
        "id": "RzeWWK5HeF-c"
      },
      "cell_type": "code",
      "source": [
        "!pip install onnxruntime"
      ],
      "outputs": [],
      "execution_count": null
    },
    {
      "metadata": {
        "ExecuteTime": {
          "end_time": "2025-01-27T20:23:19.906919Z",
          "start_time": "2025-01-27T20:23:13.815972Z"
        },
        "id": "1OZgQKSveF-h"
      },
      "cell_type": "code",
      "source": [
        "!pip install gradio rembg --quiet"
      ],
      "outputs": [],
      "execution_count": null
    },
    {
      "cell_type": "code",
      "source": [
        "import gradio as gr\n",
        "from rembg import remove\n",
        "from PIL import Image\n",
        "import io\n",
        "\n",
        "def remove_background(image_path):\n",
        "    # Read the image\n",
        "    input_image = Image.open(image_path)\n",
        "    # Remove the background\n",
        "    output_image = remove(input_image)\n",
        "    return output_image\n",
        "\n",
        "demo = gr.Interface(\n",
        "    fn=remove_background,\n",
        "    inputs=gr.Image(type=\"filepath\"),\n",
        "    outputs=gr.Image(type=\"pil\")\n",
        ")\n",
        "\n",
        "demo.launch(share=True)\n"
      ],
      "metadata": {
        "id": "RcUyusxmCMTZ"
      },
      "execution_count": null,
      "outputs": []
    }
  ],
  "metadata": {
    "accelerator": "TPU",
    "colab": {
      "provenance": [],
      "gpuType": "V28",
      "include_colab_link": true
    },
    "kernelspec": {
      "display_name": "Python 3 (ipykernel)",
      "name": "python3",
      "language": "python"
    },
    "language_info": {
      "name": "python"
    }
  },
  "nbformat": 4,
  "nbformat_minor": 0
}