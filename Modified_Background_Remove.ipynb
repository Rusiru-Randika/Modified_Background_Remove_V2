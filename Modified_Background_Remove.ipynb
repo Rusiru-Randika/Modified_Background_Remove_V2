{
  "nbformat": 4,
  "nbformat_minor": 0,
  "metadata": {
    "colab": {
      "provenance": [],
      "include_colab_link": true
    },
    "kernelspec": {
      "name": "python3",
      "display_name": "Python 3"
    },
    "language_info": {
      "name": "python"
    },
    "accelerator": "TPU"
  },
  "cells": [
    {
      "cell_type": "markdown",
      "metadata": {
        "id": "view-in-github",
        "colab_type": "text"
      },
      "source": [
        "<a href=\"https://colab.research.google.com/github/Rusiru-Randika/Modified_Background_Remove/blob/main/Modified_Background_Remove.ipynb\" target=\"_parent\"><img src=\"https://colab.research.google.com/assets/colab-badge.svg\" alt=\"Open In Colab\"/></a>"
      ]
    },
    {
      "cell_type": "code",
      "source": [
        "from google.colab import files\n",
        "uploaded = files.upload()"
      ],
      "metadata": {
        "id": "OWRowoZGPzIx"
      },
      "execution_count": null,
      "outputs": []
    },
    {
      "cell_type": "code",
      "source": [
        "from PIL import Image\n",
        "import os\n",
        "for filename in uploaded.keys():\n",
        "    try:\n",
        "        img = Image.open(filename)\n",
        "        print(f\"{filename} is an image.\")\n",
        "    except:\n",
        "        print(f\"{filename} is not a valid image.\")\n",
        "        os.remove(filename)"
      ],
      "metadata": {
        "id": "A0c3bqaRVpob"
      },
      "execution_count": null,
      "outputs": []
    },
    {
      "cell_type": "code",
      "execution_count": null,
      "metadata": {
        "id": "C12lAMBUJxxL"
      },
      "outputs": [],
      "source": [
        "%pip install rembg -q"
      ]
    },
    {
      "cell_type": "code",
      "source": [
        "from rembg import remove"
      ],
      "metadata": {
        "id": "8IVsGn3NKAR3"
      },
      "execution_count": null,
      "outputs": []
    },
    {
      "cell_type": "code",
      "source": [
        "new_filename = 'BeforeRemove.jpg'\n",
        "\n",
        "for filename, data in uploaded.items():\n",
        "    with open(new_filename, 'wb') as f:\n",
        "        f.write(data)"
      ],
      "metadata": {
        "id": "pVjPyMUVUTca"
      },
      "execution_count": null,
      "outputs": []
    },
    {
      "cell_type": "code",
      "source": [
        "without_bg= remove(Image.open('BeforeRemove.jpg'))\n",
        "without_bg.save('BGRemoveImage.png')"
      ],
      "metadata": {
        "id": "gNce0OPhKZ2l"
      },
      "execution_count": null,
      "outputs": []
    },
    {
      "cell_type": "code",
      "source": [
        "import matplotlib.pyplot as plt\n",
        "from matplotlib.pyplot import imshow\n",
        "\n",
        "image1 = Image.open('BeforeRemove.jpg')\n",
        "image2 = Image.open('BGRemoveImage.png')\n",
        "\n",
        "plt.figure(figsize=(10, 5))\n",
        "plt.subplot(1, 2, 1)\n",
        "plt.imshow(image1)\n",
        "plt.title('Before Remove')\n",
        "\n",
        "plt.subplot(1, 2, 2)\n",
        "plt.imshow(image2)\n",
        "plt.title('After Remove')\n",
        "\n",
        "plt.show()\n"
      ],
      "metadata": {
        "id": "PgejkFypMSE_"
      },
      "execution_count": null,
      "outputs": []
    },
    {
      "cell_type": "code",
      "source": [
        "files.download(\"BGRemoveImage.png\")"
      ],
      "metadata": {
        "id": "RT7lLlpCCUt2"
      },
      "execution_count": null,
      "outputs": []
    }
  ]
}