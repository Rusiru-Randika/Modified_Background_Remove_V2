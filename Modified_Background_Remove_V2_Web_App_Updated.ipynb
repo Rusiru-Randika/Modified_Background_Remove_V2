{
  "cells": [
    {
      "cell_type": "markdown",
      "metadata": {
        "id": "view-in-github",
        "colab_type": "text"
      },
      "source": [
        "<a href=\"https://colab.research.google.com/github/Rusiru-Randika/Modified_Background_Remove_V2/blob/main/Modified_Background_Remove_V2_Web_App_Updated.ipynb\" target=\"_parent\"><img src=\"https://colab.research.google.com/assets/colab-badge.svg\" alt=\"Open In Colab\"/></a>"
      ]
    },
    {
      "metadata": {
        "ExecuteTime": {
          "end_time": "2025-01-27T20:23:13.802130Z",
          "start_time": "2025-01-27T20:23:11.751638Z"
        },
        "id": "RzeWWK5HeF-c"
      },
      "cell_type": "code",
      "source": [
        "!pip install onnxruntime"
      ],
      "outputs": [],
      "execution_count": null
    },
    {
      "metadata": {
        "ExecuteTime": {
          "end_time": "2025-01-27T20:23:19.906919Z",
          "start_time": "2025-01-27T20:23:13.815972Z"
        },
        "id": "1OZgQKSveF-h"
      },
      "cell_type": "code",
      "source": [
        "!pip install gradio rembg --quiet"
      ],
      "outputs": [],
      "execution_count": null
    },
    {
      "cell_type": "code",
      "source": [
        "from PIL import Image\n",
        "from rembg import remove\n",
        "import gradio as gr\n",
        "import tempfile\n",
        "import io\n",
        "\n",
        "def remove_background(Input_Image):\n",
        "    # Read the image as binary data\n",
        "    with open(Input_Image, \"rb\") as input_file:\n",
        "        input_data = input_file.read()\n",
        "\n",
        "    # Remove the background\n",
        "    output_data = remove(input_data)\n",
        "\n",
        "    # Convert binary data to an image\n",
        "    output_image = Image.open(io.BytesIO(output_data))\n",
        "\n",
        "    # Save the output image to a temporary file\n",
        "    with tempfile.NamedTemporaryFile(delete=False, suffix=\".png\") as tmp_file:\n",
        "        output_image.save(tmp_file, format=\"PNG\")\n",
        "        tmp_file_path = tmp_file.name\n",
        "\n",
        "    return output_image, tmp_file_path\n",
        "\n",
        "# Gradio interface\n",
        "demo = gr.Interface(\n",
        "    fn=remove_background,\n",
        "    inputs=gr.Image(type=\"filepath\"),  # Input is a file path\n",
        "    outputs=[\n",
        "        gr.Image(label=\"Preview Output Image\"),  # Show the image preview\n",
        "        gr.File(label=\"Download Output Image\")  # Allow file download\n",
        "    ],\n",
        "    title=\"Background Remover\",\n",
        "    description=\"Upload an image to remove the background. Preview the result and download it.\"\n",
        ")\n",
        "\n",
        "demo.launch(share=True)"
      ],
      "metadata": {
        "id": "RcUyusxmCMTZ"
      },
      "execution_count": null,
      "outputs": []
    }
  ],
  "metadata": {
    "accelerator": "TPU",
    "colab": {
      "provenance": [],
      "gpuType": "V28",
      "include_colab_link": true
    },
    "kernelspec": {
      "display_name": "Python 3 (ipykernel)",
      "name": "python3",
      "language": "python"
    },
    "language_info": {
      "name": "python"
    }
  },
  "nbformat": 4,
  "nbformat_minor": 0
}